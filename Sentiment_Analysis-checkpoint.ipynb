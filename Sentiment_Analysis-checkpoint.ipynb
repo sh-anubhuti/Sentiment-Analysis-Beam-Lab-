{
 "cells": [
  {
   "cell_type": "code",
   "execution_count": 1,
   "id": "94bb6328",
   "metadata": {},
   "outputs": [],
   "source": [
    "import numpy as np \n",
    "import pandas as pd\n",
    "import re\n",
    "import nltk\n",
    "from nltk.tokenize import word_tokenize\n",
    "from nltk.stem import PorterStemmer #including this for stemming.\n",
    "from nltk.stem import WordNetLemmatizer #for lemmatization.\n",
    "from nltk.corpus import stopwords #for remmoving stopwords. \n",
    "import string # to deal with strings & perform operations on it.\n",
    "\n",
    "df=pd.read_csv('data.csv')\n",
    "df2=pd.read_csv('data_2.csv')\n",
    "\n",
    "\n"
   ]
  },
  {
   "cell_type": "code",
   "execution_count": 2,
   "id": "84480e12",
   "metadata": {},
   "outputs": [
    {
     "name": "stdout",
     "output_type": "stream",
     "text": [
      "['Data ', 'label', 'Unnamed: 2']\n",
      "['Data ', 'label']\n"
     ]
    }
   ],
   "source": [
    "headers = df2.columns.tolist()\n",
    "print(headers)\n",
    "df2.drop(columns=[headers[2]], inplace=True)\n",
    "print(df2.columns.tolist())"
   ]
  },
  {
   "cell_type": "code",
   "execution_count": 3,
   "id": "448b728e",
   "metadata": {},
   "outputs": [
    {
     "data": {
      "text/html": [
       "<div>\n",
       "<style scoped>\n",
       "    .dataframe tbody tr th:only-of-type {\n",
       "        vertical-align: middle;\n",
       "    }\n",
       "\n",
       "    .dataframe tbody tr th {\n",
       "        vertical-align: top;\n",
       "    }\n",
       "\n",
       "    .dataframe thead th {\n",
       "        text-align: right;\n",
       "    }\n",
       "</style>\n",
       "<table border=\"1\" class=\"dataframe\">\n",
       "  <thead>\n",
       "    <tr style=\"text-align: right;\">\n",
       "      <th></th>\n",
       "      <th>text</th>\n",
       "      <th>label</th>\n",
       "    </tr>\n",
       "  </thead>\n",
       "  <tbody>\n",
       "    <tr>\n",
       "      <th>0</th>\n",
       "      <td>सबै जना गुलाबमा काडा</td>\n",
       "      <td>nu</td>\n",
       "    </tr>\n",
       "    <tr>\n",
       "      <th>1</th>\n",
       "      <td>छ भनेर गनगन गर्छन</td>\n",
       "      <td>nu</td>\n",
       "    </tr>\n",
       "    <tr>\n",
       "      <th>2</th>\n",
       "      <td>म आफैलाई गर्व गर्छु</td>\n",
       "      <td>p</td>\n",
       "    </tr>\n",
       "    <tr>\n",
       "      <th>3</th>\n",
       "      <td>त्यो काडामा तिमी जस्तो गुलाब जो फुलेको छौचाहे ...</td>\n",
       "      <td>p</td>\n",
       "    </tr>\n",
       "    <tr>\n",
       "      <th>4</th>\n",
       "      <td>या गलत तिम्रा बारे नकरात्मक सोच राख्ने मानिसहर...</td>\n",
       "      <td>n</td>\n",
       "    </tr>\n",
       "  </tbody>\n",
       "</table>\n",
       "</div>"
      ],
      "text/plain": [
       "                                                text label\n",
       "0                               सबै जना गुलाबमा काडा    nu\n",
       "1                                  छ भनेर गनगन गर्छन    nu\n",
       "2                                म आफैलाई गर्व गर्छु     p\n",
       "3  त्यो काडामा तिमी जस्तो गुलाब जो फुलेको छौचाहे ...     p\n",
       "4  या गलत तिम्रा बारे नकरात्मक सोच राख्ने मानिसहर...     n"
      ]
     },
     "execution_count": 3,
     "metadata": {},
     "output_type": "execute_result"
    }
   ],
   "source": [
    "df.head()"
   ]
  },
  {
   "cell_type": "code",
   "execution_count": 4,
   "id": "ffddafc7",
   "metadata": {},
   "outputs": [
    {
     "data": {
      "text/html": [
       "<div>\n",
       "<style scoped>\n",
       "    .dataframe tbody tr th:only-of-type {\n",
       "        vertical-align: middle;\n",
       "    }\n",
       "\n",
       "    .dataframe tbody tr th {\n",
       "        vertical-align: top;\n",
       "    }\n",
       "\n",
       "    .dataframe thead th {\n",
       "        text-align: right;\n",
       "    }\n",
       "</style>\n",
       "<table border=\"1\" class=\"dataframe\">\n",
       "  <thead>\n",
       "    <tr style=\"text-align: right;\">\n",
       "      <th></th>\n",
       "      <th>Data</th>\n",
       "      <th>label</th>\n",
       "    </tr>\n",
       "  </thead>\n",
       "  <tbody>\n",
       "    <tr>\n",
       "      <th>0</th>\n",
       "      <td>यो समान राम्रो रहेछ</td>\n",
       "      <td>p</td>\n",
       "    </tr>\n",
       "    <tr>\n",
       "      <th>1</th>\n",
       "      <td>समान राम्रो रहेछ</td>\n",
       "      <td>p</td>\n",
       "    </tr>\n",
       "    <tr>\n",
       "      <th>2</th>\n",
       "      <td>राम्रो रहेछ</td>\n",
       "      <td>p</td>\n",
       "    </tr>\n",
       "    <tr>\n",
       "      <th>3</th>\n",
       "      <td>NaN</td>\n",
       "      <td>NaN</td>\n",
       "    </tr>\n",
       "    <tr>\n",
       "      <th>4</th>\n",
       "      <td>यो घडी मलाइ साँच्चिकै सुहाउछ । म यसलाई खरीद गर...</td>\n",
       "      <td>p</td>\n",
       "    </tr>\n",
       "  </tbody>\n",
       "</table>\n",
       "</div>"
      ],
      "text/plain": [
       "                                               Data  label\n",
       "0                                यो समान राम्रो रहेछ     p\n",
       "1                                   समान राम्रो रहेछ     p\n",
       "2                                        राम्रो रहेछ     p\n",
       "3                                                NaN   NaN\n",
       "4  यो घडी मलाइ साँच्चिकै सुहाउछ । म यसलाई खरीद गर...     p"
      ]
     },
     "execution_count": 4,
     "metadata": {},
     "output_type": "execute_result"
    }
   ],
   "source": [
    "df2.head()"
   ]
  },
  {
   "cell_type": "code",
   "execution_count": 5,
   "id": "f32f70b4",
   "metadata": {},
   "outputs": [
    {
     "data": {
      "text/html": [
       "<div>\n",
       "<style scoped>\n",
       "    .dataframe tbody tr th:only-of-type {\n",
       "        vertical-align: middle;\n",
       "    }\n",
       "\n",
       "    .dataframe tbody tr th {\n",
       "        vertical-align: top;\n",
       "    }\n",
       "\n",
       "    .dataframe thead th {\n",
       "        text-align: right;\n",
       "    }\n",
       "</style>\n",
       "<table border=\"1\" class=\"dataframe\">\n",
       "  <thead>\n",
       "    <tr style=\"text-align: right;\">\n",
       "      <th></th>\n",
       "      <th>text</th>\n",
       "      <th>label</th>\n",
       "    </tr>\n",
       "  </thead>\n",
       "  <tbody>\n",
       "    <tr>\n",
       "      <th>0</th>\n",
       "      <td>सबै जना गुलाबमा काडा</td>\n",
       "      <td>nu</td>\n",
       "    </tr>\n",
       "    <tr>\n",
       "      <th>1</th>\n",
       "      <td>छ भनेर गनगन गर्छन</td>\n",
       "      <td>nu</td>\n",
       "    </tr>\n",
       "    <tr>\n",
       "      <th>2</th>\n",
       "      <td>म आफैलाई गर्व गर्छु</td>\n",
       "      <td>p</td>\n",
       "    </tr>\n",
       "    <tr>\n",
       "      <th>3</th>\n",
       "      <td>त्यो काडामा तिमी जस्तो गुलाब जो फुलेको छौचाहे ...</td>\n",
       "      <td>p</td>\n",
       "    </tr>\n",
       "    <tr>\n",
       "      <th>4</th>\n",
       "      <td>या गलत तिम्रा बारे नकरात्मक सोच राख्ने मानिसहर...</td>\n",
       "      <td>n</td>\n",
       "    </tr>\n",
       "    <tr>\n",
       "      <th>...</th>\n",
       "      <td>...</td>\n",
       "      <td>...</td>\n",
       "    </tr>\n",
       "    <tr>\n",
       "      <th>694</th>\n",
       "      <td>दोष जसलाई लागेपनि भोगाइ बद्लिने होइन</td>\n",
       "      <td>n</td>\n",
       "    </tr>\n",
       "    <tr>\n",
       "      <th>695</th>\n",
       "      <td>मुस्किलको यो घडिमा</td>\n",
       "      <td>n</td>\n",
       "    </tr>\n",
       "    <tr>\n",
       "      <th>696</th>\n",
       "      <td>साथ हौसला प्रदान गर्नुहुने सम्पुर्ण महानुभावहर...</td>\n",
       "      <td>p</td>\n",
       "    </tr>\n",
       "    <tr>\n",
       "      <th>698</th>\n",
       "      <td>प्रति क्षमा याचना समेत गर्दछु</td>\n",
       "      <td>p</td>\n",
       "    </tr>\n",
       "    <tr>\n",
       "      <th>699</th>\n",
       "      <td>आफ्ना तर्फबाट यो बिषय अब सदाकालागि यसरी टुङ्या...</td>\n",
       "      <td>p</td>\n",
       "    </tr>\n",
       "  </tbody>\n",
       "</table>\n",
       "<p>693 rows × 2 columns</p>\n",
       "</div>"
      ],
      "text/plain": [
       "                                                  text label\n",
       "0                                 सबै जना गुलाबमा काडा    nu\n",
       "1                                    छ भनेर गनगन गर्छन    nu\n",
       "2                                  म आफैलाई गर्व गर्छु     p\n",
       "3    त्यो काडामा तिमी जस्तो गुलाब जो फुलेको छौचाहे ...     p\n",
       "4    या गलत तिम्रा बारे नकरात्मक सोच राख्ने मानिसहर...     n\n",
       "..                                                 ...   ...\n",
       "694               दोष जसलाई लागेपनि भोगाइ बद्लिने होइन     n\n",
       "695                                 मुस्किलको यो घडिमा     n\n",
       "696  साथ हौसला प्रदान गर्नुहुने सम्पुर्ण महानुभावहर...     p\n",
       "698                      प्रति क्षमा याचना समेत गर्दछु     p\n",
       "699  आफ्ना तर्फबाट यो बिषय अब सदाकालागि यसरी टुङ्या...     p\n",
       "\n",
       "[693 rows x 2 columns]"
      ]
     },
     "execution_count": 5,
     "metadata": {},
     "output_type": "execute_result"
    }
   ],
   "source": [
    "df.drop_duplicates()"
   ]
  },
  {
   "cell_type": "code",
   "execution_count": 6,
   "id": "e8bd0ee2",
   "metadata": {},
   "outputs": [
    {
     "data": {
      "text/html": [
       "<div>\n",
       "<style scoped>\n",
       "    .dataframe tbody tr th:only-of-type {\n",
       "        vertical-align: middle;\n",
       "    }\n",
       "\n",
       "    .dataframe tbody tr th {\n",
       "        vertical-align: top;\n",
       "    }\n",
       "\n",
       "    .dataframe thead th {\n",
       "        text-align: right;\n",
       "    }\n",
       "</style>\n",
       "<table border=\"1\" class=\"dataframe\">\n",
       "  <thead>\n",
       "    <tr style=\"text-align: right;\">\n",
       "      <th></th>\n",
       "      <th>Data</th>\n",
       "      <th>label</th>\n",
       "    </tr>\n",
       "  </thead>\n",
       "  <tbody>\n",
       "    <tr>\n",
       "      <th>0</th>\n",
       "      <td>यो समान राम्रो रहेछ</td>\n",
       "      <td>p</td>\n",
       "    </tr>\n",
       "    <tr>\n",
       "      <th>1</th>\n",
       "      <td>समान राम्रो रहेछ</td>\n",
       "      <td>p</td>\n",
       "    </tr>\n",
       "    <tr>\n",
       "      <th>2</th>\n",
       "      <td>राम्रो रहेछ</td>\n",
       "      <td>p</td>\n",
       "    </tr>\n",
       "    <tr>\n",
       "      <th>3</th>\n",
       "      <td>NaN</td>\n",
       "      <td>NaN</td>\n",
       "    </tr>\n",
       "    <tr>\n",
       "      <th>4</th>\n",
       "      <td>यो घडी मलाइ साँच्चिकै सुहाउछ । म यसलाई खरीद गर...</td>\n",
       "      <td>p</td>\n",
       "    </tr>\n",
       "    <tr>\n",
       "      <th>...</th>\n",
       "      <td>...</td>\n",
       "      <td>...</td>\n",
       "    </tr>\n",
       "    <tr>\n",
       "      <th>3079</th>\n",
       "      <td>आफ्नै खुट्टा मा बन्चरो हान्चन भने घन्टा गर्न</td>\n",
       "      <td>n</td>\n",
       "    </tr>\n",
       "    <tr>\n",
       "      <th>3080</th>\n",
       "      <td>आफ्नै खुट्टा मा बन्चरो हान्चन</td>\n",
       "      <td>n</td>\n",
       "    </tr>\n",
       "    <tr>\n",
       "      <th>3081</th>\n",
       "      <td>घन्टा गर्न</td>\n",
       "      <td>n</td>\n",
       "    </tr>\n",
       "    <tr>\n",
       "      <th>3082</th>\n",
       "      <td>बन्चरो हान्चन</td>\n",
       "      <td>nu</td>\n",
       "    </tr>\n",
       "    <tr>\n",
       "      <th>3083</th>\n",
       "      <td>खुट्टा मा बन्चरो</td>\n",
       "      <td>n</td>\n",
       "    </tr>\n",
       "  </tbody>\n",
       "</table>\n",
       "<p>2173 rows × 2 columns</p>\n",
       "</div>"
      ],
      "text/plain": [
       "                                                  Data  label\n",
       "0                                   यो समान राम्रो रहेछ     p\n",
       "1                                      समान राम्रो रहेछ     p\n",
       "2                                           राम्रो रहेछ     p\n",
       "3                                                   NaN   NaN\n",
       "4     यो घडी मलाइ साँच्चिकै सुहाउछ । म यसलाई खरीद गर...     p\n",
       "...                                                 ...   ...\n",
       "3079       आफ्नै खुट्टा मा बन्चरो हान्चन भने घन्टा गर्न     n\n",
       "3080                      आफ्नै खुट्टा मा बन्चरो हान्चन     n\n",
       "3081                                         घन्टा गर्न     n\n",
       "3082                                      बन्चरो हान्चन    nu\n",
       "3083                                   खुट्टा मा बन्चरो     n\n",
       "\n",
       "[2173 rows x 2 columns]"
      ]
     },
     "execution_count": 6,
     "metadata": {},
     "output_type": "execute_result"
    }
   ],
   "source": [
    "df2.drop_duplicates()"
   ]
  },
  {
   "cell_type": "code",
   "execution_count": 7,
   "id": "26552e75",
   "metadata": {},
   "outputs": [],
   "source": [
    "df.dropna(subset=['text', 'label'], inplace=True)\n",
    "df.reset_index(drop=True, inplace=True)\n",
    "df.to_csv('cleaned_data01.csv', index=False)"
   ]
  },
  {
   "cell_type": "code",
   "execution_count": 8,
   "id": "270183a5",
   "metadata": {},
   "outputs": [],
   "source": [
    "df2.dropna(subset=['Data ', 'label'], inplace=True)\n",
    "\n",
    "def clean_text(Data):\n",
    "    # Removing English alphabets and commas\n",
    "    if isinstance(Data, str):\n",
    "        cleaned_text = re.sub(r'[a-zA-Z,]', '', Data)\n",
    "        return cleaned_text.strip()\n",
    "    else:\n",
    "        return(Data)\n",
    "\n",
    "    \n",
    "\n",
    "# Apply the clean_text function to the Data column\n",
    "df2['Data '] = df2['Data '].apply(clean_text)\n",
    "\n",
    "# Step 4: Remove rows where \"Data\" column is empty after removing English alphabets and numbers\n",
    "df2 = df2[df2['Data '].str.strip() != '']\n",
    "\n",
    "# Step 5: Optionally, reset the index if you want a continuous index after cleaning\n",
    "df2.reset_index(drop=True, inplace=True)\n",
    "\n",
    "df2.to_csv('cleaned_data02.csv', index=False)\n",
    "\n"
   ]
  },
  {
   "cell_type": "code",
   "execution_count": 9,
   "id": "9c76d055",
   "metadata": {},
   "outputs": [],
   "source": [
    "df3=pd.read_csv('cleaned_data01.csv')\n",
    "df4=pd.read_csv('cleaned_data02.csv')"
   ]
  },
  {
   "cell_type": "code",
   "execution_count": 10,
   "id": "7ad3a16b",
   "metadata": {},
   "outputs": [
    {
     "data": {
      "text/plain": [
       "text     0\n",
       "label    0\n",
       "dtype: int64"
      ]
     },
     "execution_count": 10,
     "metadata": {},
     "output_type": "execute_result"
    }
   ],
   "source": [
    "df3.isnull().sum()"
   ]
  },
  {
   "cell_type": "code",
   "execution_count": 11,
   "id": "9bd0ffb3",
   "metadata": {},
   "outputs": [
    {
     "data": {
      "text/plain": [
       "Data     0\n",
       "label    0\n",
       "dtype: int64"
      ]
     },
     "execution_count": 11,
     "metadata": {},
     "output_type": "execute_result"
    }
   ],
   "source": [
    "df4.isnull().sum()"
   ]
  },
  {
   "cell_type": "code",
   "execution_count": 12,
   "id": "9d4d85b5",
   "metadata": {},
   "outputs": [
    {
     "data": {
      "text/plain": [
       "692"
      ]
     },
     "execution_count": 12,
     "metadata": {},
     "output_type": "execute_result"
    }
   ],
   "source": [
    "df3['text'].nunique()"
   ]
  },
  {
   "cell_type": "code",
   "execution_count": 13,
   "id": "61a4d8ec",
   "metadata": {},
   "outputs": [
    {
     "data": {
      "text/plain": [
       "1897"
      ]
     },
     "execution_count": 13,
     "metadata": {},
     "output_type": "execute_result"
    }
   ],
   "source": [
    "df4['Data '].nunique()"
   ]
  },
  {
   "cell_type": "code",
   "execution_count": 14,
   "id": "7f805509",
   "metadata": {},
   "outputs": [
    {
     "data": {
      "text/plain": [
       "p     294\n",
       "n     260\n",
       "nu    146\n",
       "Name: label, dtype: int64"
      ]
     },
     "execution_count": 14,
     "metadata": {},
     "output_type": "execute_result"
    }
   ],
   "source": [
    "df3['label'].value_counts()"
   ]
  },
  {
   "cell_type": "code",
   "execution_count": 15,
   "id": "bd90d072",
   "metadata": {},
   "outputs": [
    {
     "data": {
      "text/plain": [
       "nu    718\n",
       "n     655\n",
       "p     589\n",
       "n       1\n",
       "Name: label, dtype: int64"
      ]
     },
     "execution_count": 15,
     "metadata": {},
     "output_type": "execute_result"
    }
   ],
   "source": [
    "df4['label'].value_counts()"
   ]
  },
  {
   "cell_type": "code",
   "execution_count": 16,
   "id": "2149ca33",
   "metadata": {},
   "outputs": [],
   "source": [
    "# Rename the 'text' column in df1 to 'Total'\n",
    "df3.rename(columns={'text': 'Total'}, inplace=True)\n",
    "\n",
    "# Rename the 'Data' column in df2 to 'Total'\n",
    "df4.rename(columns={'Data ': 'Total'}, inplace=True)\n",
    "\n",
    "# Concatenate the two DataFrames vertically\n",
    "merged_df = pd.concat([df3, df4], ignore_index=True)\n",
    "\n",
    "# Save the merged DataFrame to a new CSV file\n",
    "merged_df.to_csv('merged_dataset.csv', index=False)"
   ]
  },
  {
   "cell_type": "code",
   "execution_count": 17,
   "id": "49dca213",
   "metadata": {},
   "outputs": [
    {
     "data": {
      "text/html": [
       "<div>\n",
       "<style scoped>\n",
       "    .dataframe tbody tr th:only-of-type {\n",
       "        vertical-align: middle;\n",
       "    }\n",
       "\n",
       "    .dataframe tbody tr th {\n",
       "        vertical-align: top;\n",
       "    }\n",
       "\n",
       "    .dataframe thead th {\n",
       "        text-align: right;\n",
       "    }\n",
       "</style>\n",
       "<table border=\"1\" class=\"dataframe\">\n",
       "  <thead>\n",
       "    <tr style=\"text-align: right;\">\n",
       "      <th></th>\n",
       "      <th>Total</th>\n",
       "      <th>label</th>\n",
       "    </tr>\n",
       "  </thead>\n",
       "  <tbody>\n",
       "    <tr>\n",
       "      <th>0</th>\n",
       "      <td>सबै जना गुलाबमा काडा</td>\n",
       "      <td>nu</td>\n",
       "    </tr>\n",
       "    <tr>\n",
       "      <th>1</th>\n",
       "      <td>छ भनेर गनगन गर्छन</td>\n",
       "      <td>nu</td>\n",
       "    </tr>\n",
       "    <tr>\n",
       "      <th>2</th>\n",
       "      <td>म आफैलाई गर्व गर्छु</td>\n",
       "      <td>p</td>\n",
       "    </tr>\n",
       "    <tr>\n",
       "      <th>3</th>\n",
       "      <td>त्यो काडामा तिमी जस्तो गुलाब जो फुलेको छौचाहे ...</td>\n",
       "      <td>p</td>\n",
       "    </tr>\n",
       "    <tr>\n",
       "      <th>4</th>\n",
       "      <td>या गलत तिम्रा बारे नकरात्मक सोच राख्ने मानिसहर...</td>\n",
       "      <td>n</td>\n",
       "    </tr>\n",
       "  </tbody>\n",
       "</table>\n",
       "</div>"
      ],
      "text/plain": [
       "                                               Total label\n",
       "0                               सबै जना गुलाबमा काडा    nu\n",
       "1                                  छ भनेर गनगन गर्छन    nu\n",
       "2                                म आफैलाई गर्व गर्छु     p\n",
       "3  त्यो काडामा तिमी जस्तो गुलाब जो फुलेको छौचाहे ...     p\n",
       "4  या गलत तिम्रा बारे नकरात्मक सोच राख्ने मानिसहर...     n"
      ]
     },
     "execution_count": 17,
     "metadata": {},
     "output_type": "execute_result"
    }
   ],
   "source": [
    "merged_df.head()"
   ]
  },
  {
   "cell_type": "code",
   "execution_count": 18,
   "id": "248b8e20",
   "metadata": {},
   "outputs": [
    {
     "data": {
      "text/plain": [
       "Total    0\n",
       "label    0\n",
       "dtype: int64"
      ]
     },
     "execution_count": 18,
     "metadata": {},
     "output_type": "execute_result"
    }
   ],
   "source": [
    "merged_df.isnull().sum()"
   ]
  },
  {
   "cell_type": "code",
   "execution_count": 19,
   "id": "155e13c0",
   "metadata": {},
   "outputs": [
    {
     "data": {
      "text/html": [
       "<div>\n",
       "<style scoped>\n",
       "    .dataframe tbody tr th:only-of-type {\n",
       "        vertical-align: middle;\n",
       "    }\n",
       "\n",
       "    .dataframe tbody tr th {\n",
       "        vertical-align: top;\n",
       "    }\n",
       "\n",
       "    .dataframe thead th {\n",
       "        text-align: right;\n",
       "    }\n",
       "</style>\n",
       "<table border=\"1\" class=\"dataframe\">\n",
       "  <thead>\n",
       "    <tr style=\"text-align: right;\">\n",
       "      <th></th>\n",
       "      <th>Total</th>\n",
       "      <th>label</th>\n",
       "    </tr>\n",
       "  </thead>\n",
       "  <tbody>\n",
       "    <tr>\n",
       "      <th>2658</th>\n",
       "      <td>आफ्नै खुट्टा मा बन्चरो हान्चन भने घन्टा गर्न</td>\n",
       "      <td>n</td>\n",
       "    </tr>\n",
       "    <tr>\n",
       "      <th>2659</th>\n",
       "      <td>आफ्नै खुट्टा मा बन्चरो हान्चन</td>\n",
       "      <td>n</td>\n",
       "    </tr>\n",
       "    <tr>\n",
       "      <th>2660</th>\n",
       "      <td>घन्टा गर्न</td>\n",
       "      <td>n</td>\n",
       "    </tr>\n",
       "    <tr>\n",
       "      <th>2661</th>\n",
       "      <td>बन्चरो हान्चन</td>\n",
       "      <td>nu</td>\n",
       "    </tr>\n",
       "    <tr>\n",
       "      <th>2662</th>\n",
       "      <td>खुट्टा मा बन्चरो</td>\n",
       "      <td>n</td>\n",
       "    </tr>\n",
       "  </tbody>\n",
       "</table>\n",
       "</div>"
      ],
      "text/plain": [
       "                                             Total label\n",
       "2658  आफ्नै खुट्टा मा बन्चरो हान्चन भने घन्टा गर्न     n\n",
       "2659                 आफ्नै खुट्टा मा बन्चरो हान्चन     n\n",
       "2660                                    घन्टा गर्न     n\n",
       "2661                                 बन्चरो हान्चन    nu\n",
       "2662                              खुट्टा मा बन्चरो     n"
      ]
     },
     "execution_count": 19,
     "metadata": {},
     "output_type": "execute_result"
    }
   ],
   "source": [
    "merged_df.tail()"
   ]
  },
  {
   "cell_type": "code",
   "execution_count": 20,
   "id": "f7e22430",
   "metadata": {},
   "outputs": [
    {
     "data": {
      "text/plain": [
       "Index(['Total', 'label'], dtype='object')"
      ]
     },
     "execution_count": 20,
     "metadata": {},
     "output_type": "execute_result"
    }
   ],
   "source": [
    "merged_df.columns"
   ]
  },
  {
   "cell_type": "code",
   "execution_count": 21,
   "id": "6eca72d8",
   "metadata": {},
   "outputs": [],
   "source": [
    "merged_df = pd.read_csv('merged_dataset.csv')"
   ]
  },
  {
   "cell_type": "code",
   "execution_count": 22,
   "id": "34475023",
   "metadata": {},
   "outputs": [],
   "source": [
    "# Assuming 'data' is your DataFrame containing the dataset\n",
    "merged_df['label'] = merged_df['label'].str.strip()  # Remove leading/trailing spaces\n",
    "merged_df['label'] = merged_df['label'].str.replace('\\xa0', '', regex=True)  # Remove non-breaking spaces\n"
   ]
  },
  {
   "cell_type": "code",
   "execution_count": 23,
   "id": "bf90f688",
   "metadata": {},
   "outputs": [
    {
     "name": "stderr",
     "output_type": "stream",
     "text": [
      "[nltk_data] Downloading package stopwords to\n",
      "[nltk_data]     C:\\Users\\Hp\\AppData\\Roaming\\nltk_data...\n",
      "[nltk_data]   Package stopwords is already up-to-date!\n"
     ]
    },
    {
     "name": "stdout",
     "output_type": "stream",
     "text": [
      "Model: \"sequential\"\n",
      "_________________________________________________________________\n",
      " Layer (type)                Output Shape              Param #   \n",
      "=================================================================\n",
      " embedding (Embedding)       (None, 100, 128)          128000    \n",
      "                                                                 \n",
      " flatten (Flatten)           (None, 12800)             0         \n",
      "                                                                 \n",
      " dense (Dense)               (None, 128)               1638528   \n",
      "                                                                 \n",
      " dense_1 (Dense)             (None, 32)                4128      \n",
      "                                                                 \n",
      " dense_2 (Dense)             (None, 3)                 99        \n",
      "                                                                 \n",
      "=================================================================\n",
      "Total params: 1770755 (6.75 MB)\n",
      "Trainable params: 1770755 (6.75 MB)\n",
      "Non-trainable params: 0 (0.00 Byte)\n",
      "_________________________________________________________________\n",
      "None\n",
      "Epoch 1/50\n",
      "54/54 [==============================] - 3s 32ms/step - loss: 1.1059 - accuracy: 0.3492 - val_loss: 1.0933 - val_accuracy: 0.3967\n",
      "Epoch 2/50\n",
      "54/54 [==============================] - 1s 27ms/step - loss: 1.0764 - accuracy: 0.4396 - val_loss: 1.0746 - val_accuracy: 0.3451\n",
      "Epoch 3/50\n",
      "54/54 [==============================] - 1s 27ms/step - loss: 0.9270 - accuracy: 0.6256 - val_loss: 1.0212 - val_accuracy: 0.4883\n",
      "Epoch 4/50\n",
      "54/54 [==============================] - 1s 27ms/step - loss: 0.7061 - accuracy: 0.7171 - val_loss: 0.9850 - val_accuracy: 0.5282\n",
      "Epoch 5/50\n",
      "54/54 [==============================] - 1s 26ms/step - loss: 0.5040 - accuracy: 0.7975 - val_loss: 1.0715 - val_accuracy: 0.5493\n",
      "Epoch 6/50\n",
      "54/54 [==============================] - 1s 24ms/step - loss: 0.3746 - accuracy: 0.8239 - val_loss: 1.1579 - val_accuracy: 0.5469\n",
      "Epoch 7/50\n",
      "54/54 [==============================] - 1s 25ms/step - loss: 0.3075 - accuracy: 0.8592 - val_loss: 1.2618 - val_accuracy: 0.5399\n",
      "Epoch 8/50\n",
      "54/54 [==============================] - 1s 24ms/step - loss: 0.2681 - accuracy: 0.8638 - val_loss: 1.4070 - val_accuracy: 0.5305\n",
      "Epoch 9/50\n",
      "54/54 [==============================] - 1s 25ms/step - loss: 0.2539 - accuracy: 0.8680 - val_loss: 1.4420 - val_accuracy: 0.5352\n",
      "Epoch 10/50\n",
      "54/54 [==============================] - 1s 24ms/step - loss: 0.2344 - accuracy: 0.8750 - val_loss: 1.4788 - val_accuracy: 0.5305\n",
      "Epoch 11/50\n",
      "54/54 [==============================] - 1s 25ms/step - loss: 0.2288 - accuracy: 0.8844 - val_loss: 1.6601 - val_accuracy: 0.5305\n",
      "Epoch 12/50\n",
      "54/54 [==============================] - 1s 24ms/step - loss: 0.2233 - accuracy: 0.8815 - val_loss: 1.7009 - val_accuracy: 0.5423\n",
      "Epoch 13/50\n",
      "54/54 [==============================] - 1s 25ms/step - loss: 0.2136 - accuracy: 0.8867 - val_loss: 1.7608 - val_accuracy: 0.5141\n",
      "Epoch 14/50\n",
      "54/54 [==============================] - 1s 25ms/step - loss: 0.2070 - accuracy: 0.8938 - val_loss: 1.7306 - val_accuracy: 0.5235\n",
      "Epoch 15/50\n",
      "54/54 [==============================] - 1s 25ms/step - loss: 0.2142 - accuracy: 0.8803 - val_loss: 1.5011 - val_accuracy: 0.5329\n",
      "Epoch 16/50\n",
      "54/54 [==============================] - 1s 25ms/step - loss: 0.2094 - accuracy: 0.8826 - val_loss: 1.7268 - val_accuracy: 0.5188\n",
      "Epoch 17/50\n",
      "54/54 [==============================] - 1s 26ms/step - loss: 0.1996 - accuracy: 0.8838 - val_loss: 1.5291 - val_accuracy: 0.5282\n",
      "Epoch 18/50\n",
      "54/54 [==============================] - 1s 25ms/step - loss: 0.2017 - accuracy: 0.8838 - val_loss: 1.6763 - val_accuracy: 0.5211\n",
      "Epoch 19/50\n",
      "54/54 [==============================] - 1s 26ms/step - loss: 0.1964 - accuracy: 0.8879 - val_loss: 1.7995 - val_accuracy: 0.5282\n",
      "Epoch 20/50\n",
      "54/54 [==============================] - 1s 26ms/step - loss: 0.1942 - accuracy: 0.8838 - val_loss: 1.7770 - val_accuracy: 0.5399\n",
      "Epoch 21/50\n",
      "54/54 [==============================] - 1s 25ms/step - loss: 0.1918 - accuracy: 0.8762 - val_loss: 1.9056 - val_accuracy: 0.5493\n",
      "Epoch 22/50\n",
      "54/54 [==============================] - 1s 27ms/step - loss: 0.1919 - accuracy: 0.8885 - val_loss: 1.6263 - val_accuracy: 0.5235\n",
      "Epoch 23/50\n",
      "54/54 [==============================] - 1s 26ms/step - loss: 0.1922 - accuracy: 0.8873 - val_loss: 1.6684 - val_accuracy: 0.5211\n",
      "Epoch 24/50\n",
      "54/54 [==============================] - 1s 25ms/step - loss: 0.1937 - accuracy: 0.8867 - val_loss: 1.8223 - val_accuracy: 0.5211\n",
      "Epoch 25/50\n",
      "54/54 [==============================] - 1s 25ms/step - loss: 0.1958 - accuracy: 0.8844 - val_loss: 1.8154 - val_accuracy: 0.5211\n",
      "Epoch 26/50\n",
      "54/54 [==============================] - 1s 25ms/step - loss: 0.1920 - accuracy: 0.8791 - val_loss: 1.8385 - val_accuracy: 0.5305\n",
      "Epoch 27/50\n",
      "54/54 [==============================] - 1s 25ms/step - loss: 0.1957 - accuracy: 0.8932 - val_loss: 1.8076 - val_accuracy: 0.5446\n",
      "Epoch 28/50\n",
      "54/54 [==============================] - 1s 25ms/step - loss: 0.1954 - accuracy: 0.8856 - val_loss: 1.9326 - val_accuracy: 0.5305\n",
      "Epoch 29/50\n",
      "54/54 [==============================] - 1s 26ms/step - loss: 0.1891 - accuracy: 0.8832 - val_loss: 1.6531 - val_accuracy: 0.5282\n",
      "Epoch 30/50\n",
      "54/54 [==============================] - 1s 25ms/step - loss: 0.1944 - accuracy: 0.8891 - val_loss: 1.9350 - val_accuracy: 0.5446\n",
      "Epoch 31/50\n",
      "54/54 [==============================] - 1s 26ms/step - loss: 0.1981 - accuracy: 0.8850 - val_loss: 1.6230 - val_accuracy: 0.5399\n",
      "Epoch 32/50\n",
      "54/54 [==============================] - 1s 24ms/step - loss: 0.1948 - accuracy: 0.8914 - val_loss: 2.0500 - val_accuracy: 0.5446\n",
      "Epoch 33/50\n",
      "54/54 [==============================] - 1s 25ms/step - loss: 0.1988 - accuracy: 0.8908 - val_loss: 1.9104 - val_accuracy: 0.5399\n",
      "Epoch 34/50\n",
      "54/54 [==============================] - 1s 25ms/step - loss: 0.1926 - accuracy: 0.8879 - val_loss: 1.8549 - val_accuracy: 0.5211\n",
      "Epoch 35/50\n",
      "54/54 [==============================] - 1s 25ms/step - loss: 0.1884 - accuracy: 0.8879 - val_loss: 1.8786 - val_accuracy: 0.5446\n",
      "Epoch 36/50\n",
      "54/54 [==============================] - 1s 25ms/step - loss: 0.1865 - accuracy: 0.8885 - val_loss: 1.9974 - val_accuracy: 0.5352\n",
      "Epoch 37/50\n",
      "54/54 [==============================] - 1s 25ms/step - loss: 0.1902 - accuracy: 0.8920 - val_loss: 2.1666 - val_accuracy: 0.5446\n",
      "Epoch 38/50\n",
      "54/54 [==============================] - 1s 26ms/step - loss: 0.1871 - accuracy: 0.8955 - val_loss: 2.0939 - val_accuracy: 0.5282\n",
      "Epoch 39/50\n",
      "54/54 [==============================] - 1s 25ms/step - loss: 0.1870 - accuracy: 0.8897 - val_loss: 1.9093 - val_accuracy: 0.5329\n",
      "Epoch 40/50\n",
      "54/54 [==============================] - 1s 25ms/step - loss: 0.1829 - accuracy: 0.8908 - val_loss: 1.6087 - val_accuracy: 0.5516\n",
      "Epoch 41/50\n",
      "54/54 [==============================] - 1s 24ms/step - loss: 0.1831 - accuracy: 0.8926 - val_loss: 1.7678 - val_accuracy: 0.5258\n",
      "Epoch 42/50\n",
      "54/54 [==============================] - 1s 24ms/step - loss: 0.1845 - accuracy: 0.8862 - val_loss: 1.8346 - val_accuracy: 0.5376\n",
      "Epoch 43/50\n",
      "54/54 [==============================] - 1s 25ms/step - loss: 0.1826 - accuracy: 0.8826 - val_loss: 2.0517 - val_accuracy: 0.5399\n",
      "Epoch 44/50\n",
      "54/54 [==============================] - 1s 25ms/step - loss: 0.1821 - accuracy: 0.8815 - val_loss: 1.9261 - val_accuracy: 0.5376\n",
      "Epoch 45/50\n",
      "54/54 [==============================] - 1s 26ms/step - loss: 0.1852 - accuracy: 0.8844 - val_loss: 1.7994 - val_accuracy: 0.5329\n",
      "Epoch 46/50\n",
      "54/54 [==============================] - 1s 25ms/step - loss: 0.1834 - accuracy: 0.8815 - val_loss: 1.8529 - val_accuracy: 0.5305\n",
      "Epoch 47/50\n",
      "54/54 [==============================] - 1s 25ms/step - loss: 0.1817 - accuracy: 0.8879 - val_loss: 1.8771 - val_accuracy: 0.5423\n",
      "Epoch 48/50\n",
      "54/54 [==============================] - 1s 25ms/step - loss: 0.1853 - accuracy: 0.8926 - val_loss: 1.9627 - val_accuracy: 0.5282\n",
      "Epoch 49/50\n",
      "54/54 [==============================] - 1s 25ms/step - loss: 0.1852 - accuracy: 0.8950 - val_loss: 1.9463 - val_accuracy: 0.5493\n",
      "Epoch 50/50\n",
      "54/54 [==============================] - 1s 25ms/step - loss: 0.1843 - accuracy: 0.8914 - val_loss: 1.9404 - val_accuracy: 0.5376\n"
     ]
    },
    {
     "name": "stdout",
     "output_type": "stream",
     "text": [
      "Test accuracy: 0.45028141140937805\n",
      "1/1 [==============================] - 0s 102ms/step\n",
      "Text: Your Nepali text goes here, Predicted Label: 0\n",
      "Text: Another Nepali text sample, Predicted Label: 0\n"
     ]
    }
   ],
   "source": [
    "from sklearn.model_selection import train_test_split\n",
    "from keras.preprocessing.text import Tokenizer\n",
    "from keras.preprocessing.sequence import pad_sequences\n",
    "from keras.models import Sequential\n",
    "from keras.layers import Embedding, LSTM, Dense,Flatten\n",
    "from keras.utils import to_categorical\n",
    "from sklearn.metrics import accuracy_score\n",
    "import nltk\n",
    "from nltk.corpus import stopwords\n",
    "from collections import Counter\n",
    "\n",
    "# Download the stopwords corpus if not already downloaded\n",
    "nltk.download('stopwords')\n",
    "\n",
    "\n",
    "# Remove stopwords from the Nepali text\n",
    "nepali_stopwords = set(stopwords.words('nepali'))\n",
    "merged_df['Total'] = merged_df['Total'].apply(lambda x: ' '.join([word for word in x.split() if word not in nepali_stopwords]))\n",
    "\n",
    "# Get the most recurring words in the dataset\n",
    "word_counter = Counter(' '.join(merged_df['Total']).split())\n",
    "most_common_words = set([word for word, count in word_counter.most_common(10)])  # Change '10' to the desired number of most recurring words to remove\n",
    "merged_df['Total'] = merged_df['Total'].apply(lambda x: ' '.join([word for word in x.split() if word not in most_common_words]))\n",
    "\n",
    "# Split into features (Total) and labels (label)\n",
    "X = merged_df['Total'].values\n",
    "y = merged_df['label'].values\n",
    "\n",
    "\n",
    "# Convert labels to numerical format (0, 1, 2)\n",
    "label_mapping = {'n': 0, 'p': 1, 'nu': 2}\n",
    "y = np.array([label_mapping[label] for label in y])\n",
    "\n",
    "# Split data into training and testing sets\n",
    "X_train, X_test, y_train, y_test = train_test_split(X, y, test_size=0.2, random_state=42)\n",
    "\n",
    "# Tokenize and pad sequences\n",
    "max_words = 1000  # Maximum number of words to consider in the vocabulary\n",
    "tokenizer = Tokenizer(num_words=max_words)\n",
    "tokenizer.fit_on_texts(X_train)\n",
    "X_train_sequences = tokenizer.texts_to_sequences(X_train)\n",
    "X_test_sequences = tokenizer.texts_to_sequences(X_test)\n",
    "\n",
    "max_sequence_length = 100  # Maximum sequence length (you can adjust this value based on your data)\n",
    "X_train_padded = pad_sequences(X_train_sequences, maxlen=max_sequence_length)\n",
    "X_test_padded = pad_sequences(X_test_sequences, maxlen=max_sequence_length)\n",
    "\n",
    "# Convert labels to one-hot encoded format\n",
    "y_train_encoded = to_categorical(y_train)\n",
    "y_test_encoded = to_categorical(y_test)\n",
    "\n",
    "# Build the Keras model\n",
    "model = Sequential()\n",
    "model.add(Embedding(max_words, 128, input_length=max_sequence_length))\n",
    "#model.add(LSTM(64, dropout=0.2, recurrent_dropout=0.2))\n",
    "model.add(Flatten())\n",
    "model.add(Dense(128,activation='relu'))\n",
    "model.add(Dense(32,activation='relu'))\n",
    "model.add(Dense(3, activation='softmax'))\n",
    "\n",
    "# Compile the model\n",
    "model.compile(loss='categorical_crossentropy', optimizer='adam', metrics=['accuracy'])\n",
    "print(model.summary())\n",
    "\n",
    "# Train the model\n",
    "epochs = 50\n",
    "batch_size = 32\n",
    "model.fit(X_train_padded, y_train_encoded, epochs=epochs, batch_size=batch_size, validation_split=0.2)\n",
    "\n",
    "# Evaluate the model\n",
    "loss, accuracy = model.evaluate(X_test_padded, y_test_encoded, verbose=0)\n",
    "print('Test accuracy:', accuracy)\n",
    "\n",
    "# Make predictions on new data\n",
    "new_texts = ['Your Nepali text goes here', 'Another Nepali text sample']\n",
    "new_texts = [' '.join([word for word in text.split() if word not in nepali_stopwords]) for text in new_texts]\n",
    "new_texts = [' '.join([word for word in text.split() if word not in most_common_words]) for text in new_texts]\n",
    "new_sequences = tokenizer.texts_to_sequences(new_texts)\n",
    "new_padded = pad_sequences(new_sequences, maxlen=max_sequence_length)\n",
    "predictions = model.predict(new_padded)\n",
    "predicted_labels = np.argmax(predictions, axis=1)\n",
    "for i, text in enumerate(new_texts):\n",
    "    print(f'Text: {text}, Predicted Label: {predicted_labels[i]}')"
   ]
  },
  {
   "cell_type": "code",
   "execution_count": 24,
   "id": "0ade5bee",
   "metadata": {},
   "outputs": [
    {
     "name": "stdout",
     "output_type": "stream",
     "text": [
      "17/17 [==============================] - 0s 5ms/step\n"
     ]
    },
    {
     "data": {
      "image/png": "[encoded data removed]",
      "text/plain": [
       "<Figure size 640x480 with 2 Axes>"
      ]
     },
     "metadata": {},
     "output_type": "display_data"
    }
   ],
   "source": [
    "import matplotlib.pyplot as plt\n",
    "from sklearn.metrics import confusion_matrix, ConfusionMatrixDisplay\n",
    "\n",
    "# Get the predicted labels for the test data\n",
    "y_pred = model.predict(X_test_padded)\n",
    "y_pred_labels = np.argmax(y_pred, axis=1)\n",
    "\n",
    "# Create the confusion matrix\n",
    "cm = confusion_matrix(y_test, y_pred_labels)\n",
    "\n",
    "# Define class labels\n",
    "class_labels = ['Negative', 'Positive', 'Neutral']\n",
    "\n",
    "# Display the confusion matrix\n",
    "disp = ConfusionMatrixDisplay(confusion_matrix=cm, display_labels=class_labels)\n",
    "disp.plot(cmap=plt.cm.Blues, values_format='d')\n",
    "plt.title('Confusion Matrix')\n",
    "plt.show()"
   ]
  },
  {
   "cell_type": "code",
   "execution_count": null,
   "id": "0d0e3341",
   "metadata": {},
   "outputs": [],
   "source": []
  }
 ],
 "metadata": {
  "kernelspec": {
   "display_name": "Python 3 (ipykernel)",
   "language": "python",
   "name": "python3"
  },
  "language_info": {
   "codemirror_mode": {
    "name": "ipython",
    "version": 3
   },
   "file_extension": ".py",
   "mimetype": "text/x-python",
   "name": "python",
   "nbconvert_exporter": "python",
   "pygments_lexer": "ipython3",
   "version": "3.9.13"
  }
 },
 "nbformat": 4,
 "nbformat_minor": 5
}
